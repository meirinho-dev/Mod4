{
 "cells": [
  {
   "cell_type": "markdown",
   "metadata": {},
   "source": [
    "# Tarefa 01\n",
    "\n",
    "- Leia os enunciados com atenção\n",
    "- Saiba que pode haver mais de uma resposta correta\n",
    "- Insira novas células de código sempre que achar necessário\n",
    "- Em caso de dúvidas, procure os tutores\n",
    "- Divirta-se :)\n",
    "\n",
    "#### 1)  crie uma série do pandas a partir de uma lista com os dados abaixo:\n",
    "\n",
    "Em um estudo sobre alteração na tempreatura global, A NASA disponibiliza dados de diferenças de de temperatura média da superfície terrestre relativos às médias de temperatura entre 1951 e 1980. Os dados originais podem ser vistos no site da NASA/GISS, e estão dispostos a cada década na tabela abaixo.\n",
    "\n",
    "|ano|anomalia termica|\n",
    "|:-:|:----:|\n",
    "| 1900 | -0.08 |\n",
    "| 1920 | -0.27 |\n",
    "| 1940 | 0.12 |\n",
    "| 1960 | -0.03 |\n",
    "| 1980 | 0.26 |\n",
    "| 2000 | 0.40 |\n",
    "| 2020 | 1.02 |\n",
    "\n",
    "Crie uma séries do Pandas a partir de uma lista com esses dados."
   ]
  },
  {
   "cell_type": "code",
   "execution_count": 17,
   "metadata": {},
   "outputs": [
    {
     "data": {
      "text/plain": [
       "0   -0.08\n",
       "1   -0.27\n",
       "2    0.12\n",
       "3   -0.03\n",
       "4    0.26\n",
       "5    0.40\n",
       "6    1.02\n",
       "dtype: float64"
      ]
     },
     "execution_count": 17,
     "metadata": {},
     "output_type": "execute_result"
    }
   ],
   "source": [
    "import pandas as pd\n",
    "import numpy as np\n",
    "\n",
    "# Criando uma lista com os dados constantes na segunda coluna\n",
    "dados=[-0.08,-0.27,0.12,-0.03,0.26,0.40,1.02]\n",
    "pd.Series(data=dados)"
   ]
  },
  {
   "cell_type": "markdown",
   "metadata": {},
   "source": [
    "#### 2) Coloque os anos nos índices conforme a tabela."
   ]
  },
  {
   "cell_type": "code",
   "execution_count": 19,
   "metadata": {},
   "outputs": [
    {
     "data": {
      "text/plain": [
       "1900   -0.08\n",
       "1920   -0.27\n",
       "1940    0.12\n",
       "1960   -0.03\n",
       "1980    0.26\n",
       "2000    0.40\n",
       "2020    1.02\n",
       "dtype: float64"
      ]
     },
     "execution_count": 19,
     "metadata": {},
     "output_type": "execute_result"
    }
   ],
   "source": [
    "\n",
    "# Criando o índice\n",
    "indice=['1900','1920','1940','1960','1980','2000','2020']\n",
    "dados=[-0.08,-0.27,0.12,-0.03,0.26,0.40,1.02]\n",
    "pd.Series(data=dados, index=indice)"
   ]
  },
  {
   "cell_type": "markdown",
   "metadata": {},
   "source": [
    "#### 3) A partir do dicionário abaixo, crie uma séries do Pandas:"
   ]
  },
  {
   "cell_type": "code",
   "execution_count": 31,
   "metadata": {},
   "outputs": [
    {
     "data": {
      "text/plain": [
       "1900   -0.08\n",
       "1920   -0.27\n",
       "1940    0.12\n",
       "1960   -0.03\n",
       "1980    0.26\n",
       "2000    0.40\n",
       "2020    1.02\n",
       "dtype: float64"
      ]
     },
     "execution_count": 31,
     "metadata": {},
     "output_type": "execute_result"
    }
   ],
   "source": [
    "dict_temperaturas = {1900: -.08, 1920: -.27, 1940: .12, 1960: -.03, 1980: .26, 2000: .40, 2020: 1.02}\n",
    "\n",
    "#Criando uma série a partir de um dicionário\n",
    "\n",
    "temperaturasSeries = pd.Series(dict_temperaturas)\n",
    "temperaturasSeries\n"
   ]
  },
  {
   "cell_type": "markdown",
   "metadata": {},
   "source": [
    "#### 4) Transforme o ndarray abaixo em um dataframe. \n",
    "O numpy é capaz de gerar arrays n-dimensionais com números pseudo-aleatórios de acordo com uma variedade de distribuições, como no exemplo abaixo. Transforme esse nd-array em um DataFrame."
   ]
  },
  {
   "cell_type": "code",
   "execution_count": 33,
   "metadata": {},
   "outputs": [
    {
     "name": "stdout",
     "output_type": "stream",
     "text": [
      "      Coluna_1    Coluna_2    Coluna_3\n",
      "0    94.278514   87.937753  102.083781\n",
      "1    95.962749   98.083431  114.373447\n",
      "2   109.371043   77.608317  105.225661\n",
      "3    95.416450  103.917720  104.772852\n",
      "4    86.156821   95.612467   89.489973\n",
      "5    92.946577   89.956831  114.390298\n",
      "6   110.536967  125.475053   92.956990\n",
      "7   100.554583  102.788525  101.292146\n",
      "8    97.251957   86.274269  109.252763\n",
      "9   108.400763  113.229163   94.140511\n",
      "10   97.693667  103.093024  110.108850\n",
      "11   99.533408   85.560922  112.439855\n",
      "12  103.318902  100.224638  109.137576\n",
      "13  106.738840   97.468541  105.897803\n",
      "14   78.830615   90.015272  107.630602\n",
      "15  106.835698   95.699441   89.717996\n",
      "16  114.198798   98.105174   95.557737\n",
      "17  110.823959  104.821070  107.886592\n",
      "18   87.603365  100.270825   87.217473\n",
      "19  117.731236  101.394568   86.359119\n"
     ]
    }
   ],
   "source": [
    "arr = np.random.normal(100, 10, (20,3))\n",
    "\n",
    "# Transformando o ndarray em um DataFrame\n",
    "df = pd.DataFrame(arr, columns=['Coluna_1', 'Coluna_2', 'Coluna_3'])\n",
    "\n",
    "# Exibindo o DataFrame\n",
    "print(df)"
   ]
  },
  {
   "cell_type": "markdown",
   "metadata": {},
   "source": [
    "#### 5) Nomeie os índices das linhas com inteiros de 1 a 20, e as colunas com os nomes \"x1\", \"x2\", e \"x3\" respectivamente."
   ]
  },
  {
   "cell_type": "code",
   "execution_count": 35,
   "metadata": {},
   "outputs": [
    {
     "name": "stdout",
     "output_type": "stream",
     "text": [
      "            x1          x2          x3\n",
      "1    94.278514   87.937753  102.083781\n",
      "2    95.962749   98.083431  114.373447\n",
      "3   109.371043   77.608317  105.225661\n",
      "4    95.416450  103.917720  104.772852\n",
      "5    86.156821   95.612467   89.489973\n",
      "6    92.946577   89.956831  114.390298\n",
      "7   110.536967  125.475053   92.956990\n",
      "8   100.554583  102.788525  101.292146\n",
      "9    97.251957   86.274269  109.252763\n",
      "10  108.400763  113.229163   94.140511\n",
      "11   97.693667  103.093024  110.108850\n",
      "12   99.533408   85.560922  112.439855\n",
      "13  103.318902  100.224638  109.137576\n",
      "14  106.738840   97.468541  105.897803\n",
      "15   78.830615   90.015272  107.630602\n",
      "16  106.835698   95.699441   89.717996\n",
      "17  114.198798   98.105174   95.557737\n",
      "18  110.823959  104.821070  107.886592\n",
      "19   87.603365  100.270825   87.217473\n",
      "20  117.731236  101.394568   86.359119\n"
     ]
    }
   ],
   "source": [
    "# Renomeando os índices para inteiros de 1 a 20\n",
    "df.index = range(1, 21)\n",
    "\n",
    "# Renomeando as colunas para 'x1', 'x2', 'x3'\n",
    "df.columns = ['x1', 'x2', 'x3']\n",
    "\n",
    "# Exibindo o DataFrame\n",
    "print(df)\n"
   ]
  },
  {
   "cell_type": "markdown",
   "metadata": {},
   "source": [
    "#### 6) No DataFrame do exercício 5, crie uma nova coluna como sendo a média das três colunas, e dê a ela o nome de \"media\" (não recomendo colocar acentos em nomes de variáveis)."
   ]
  },
  {
   "cell_type": "code",
   "execution_count": 37,
   "metadata": {},
   "outputs": [
    {
     "name": "stdout",
     "output_type": "stream",
     "text": [
      "            x1          x2          x3       media\n",
      "1    94.278514   87.937753  102.083781   94.766682\n",
      "2    95.962749   98.083431  114.373447  102.806542\n",
      "3   109.371043   77.608317  105.225661   97.401674\n",
      "4    95.416450  103.917720  104.772852  101.369007\n",
      "5    86.156821   95.612467   89.489973   90.419754\n",
      "6    92.946577   89.956831  114.390298   99.097902\n",
      "7   110.536967  125.475053   92.956990  109.656336\n",
      "8   100.554583  102.788525  101.292146  101.545085\n",
      "9    97.251957   86.274269  109.252763   97.592996\n",
      "10  108.400763  113.229163   94.140511  105.256812\n",
      "11   97.693667  103.093024  110.108850  103.631847\n",
      "12   99.533408   85.560922  112.439855   99.178062\n",
      "13  103.318902  100.224638  109.137576  104.227039\n",
      "14  106.738840   97.468541  105.897803  103.368395\n",
      "15   78.830615   90.015272  107.630602   92.158829\n",
      "16  106.835698   95.699441   89.717996   97.417712\n",
      "17  114.198798   98.105174   95.557737  102.620569\n",
      "18  110.823959  104.821070  107.886592  107.843874\n",
      "19   87.603365  100.270825   87.217473   91.697221\n",
      "20  117.731236  101.394568   86.359119  101.828308\n"
     ]
    }
   ],
   "source": [
    "# Criando uma nova coluna 'media' com a média das três colunas\n",
    "df['media'] = df[['x1', 'x2', 'x3']].mean(axis=1)\n",
    "\n",
    "# Exibindo o DataFrame\n",
    "print(df)"
   ]
  },
  {
   "cell_type": "markdown",
   "metadata": {},
   "source": [
    "#### 7) No DataFrame do exercício 6, crie uma nova coluna chamada \"log_med\", contendo o logaritmo natural da média calculada no exercício 6 <br>"
   ]
  },
  {
   "cell_type": "code",
   "execution_count": 39,
   "metadata": {},
   "outputs": [
    {
     "name": "stdout",
     "output_type": "stream",
     "text": [
      "            x1          x2          x3       media   log_med\n",
      "1    94.278514   87.937753  102.083781   94.766682  4.551418\n",
      "2    95.962749   98.083431  114.373447  102.806542  4.632849\n",
      "3   109.371043   77.608317  105.225661   97.401674  4.578843\n",
      "4    95.416450  103.917720  104.772852  101.369007  4.618767\n",
      "5    86.156821   95.612467   89.489973   90.419754  4.504463\n",
      "6    92.946577   89.956831  114.390298   99.097902  4.596108\n",
      "7   110.536967  125.475053   92.956990  109.656336  4.697351\n",
      "8   100.554583  102.788525  101.292146  101.545085  4.620503\n",
      "9    97.251957   86.274269  109.252763   97.592996  4.580806\n",
      "10  108.400763  113.229163   94.140511  105.256812  4.656403\n",
      "11   97.693667  103.093024  110.108850  103.631847  4.640845\n",
      "12   99.533408   85.560922  112.439855   99.178062  4.596917\n",
      "13  103.318902  100.224638  109.137576  104.227039  4.646572\n",
      "14  106.738840   97.468541  105.897803  103.368395  4.638299\n",
      "15   78.830615   90.015272  107.630602   92.158829  4.523513\n",
      "16  106.835698   95.699441   89.717996   97.417712  4.579008\n",
      "17  114.198798   98.105174   95.557737  102.620569  4.631038\n",
      "18  110.823959  104.821070  107.886592  107.843874  4.680685\n",
      "19   87.603365  100.270825   87.217473   91.697221  4.518492\n",
      "20  117.731236  101.394568   86.359119  101.828308  4.623288\n"
     ]
    }
   ],
   "source": [
    "# Criando uma nova coluna 'log_med' contendo o logaritmo natural da coluna 'media'\n",
    "df['log_med'] = np.log(df['media'])\n",
    "\n",
    "# Exibindo o DataFrame\n",
    "print(df)"
   ]
  },
  {
   "cell_type": "code",
   "execution_count": null,
   "metadata": {},
   "outputs": [],
   "source": []
  }
 ],
 "metadata": {
  "kernelspec": {
   "display_name": "Python 3 (ipykernel)",
   "language": "python",
   "name": "python3"
  },
  "language_info": {
   "codemirror_mode": {
    "name": "ipython",
    "version": 3
   },
   "file_extension": ".py",
   "mimetype": "text/x-python",
   "name": "python",
   "nbconvert_exporter": "python",
   "pygments_lexer": "ipython3",
   "version": "3.12.4"
  }
 },
 "nbformat": 4,
 "nbformat_minor": 4
}
